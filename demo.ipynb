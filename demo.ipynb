{
 "cells": [
  {
   "cell_type": "markdown",
   "id": "70fc023d",
   "metadata": {},
   "source": [
    "# Shakespearean English Translator Demo\n",
    "\n",
    "This notebook demonstrates interactive English → Shakespearean English translation using fine-tuned T5 models on both a tiny, perfectly aligned dataset and a large, noisy dataset. It is designed for Colab or local Jupyter environments and runs on CPU, MPS (Apple Silicon), or CUDA."
   ]
  },
  {
   "cell_type": "markdown",
   "id": "ce7e0dc8",
   "metadata": {},
   "source": [
    "## 1. Setup & Imports\n",
    "\n",
    "Install required packages (uncomment if running in Colab):\n",
    "```python\n",
    "# !pip install torch transformers sentencepiece nltk rouge-score matplotlib\n",
    "```"
   ]
  },
  {
   "cell_type": "code",
   "execution_count": 13,
   "id": "25ca0ad4",
   "metadata": {},
   "outputs": [],
   "source": [
    "import torch\n",
    "from transformers import T5ForConditionalGeneration, T5Tokenizer\n",
    "import matplotlib.pyplot as plt\n",
    "import json"
   ]
  },
  {
   "cell_type": "markdown",
   "id": "16c443e2",
   "metadata": {},
   "source": [
    "## 2. Load the Tiny Shakespeare T5 Model"
   ]
  },
  {
   "cell_type": "code",
   "execution_count": 15,
   "id": "d7de541c",
   "metadata": {},
   "outputs": [
    {
     "name": "stdout",
     "output_type": "stream",
     "text": [
      "Using device: mps\n"
     ]
    }
   ],
   "source": [
    "MODEL_DIR = \"outputs/tiny-shakespeare-t5\"\n",
    "tokenizer = T5Tokenizer.from_pretrained(MODEL_DIR)\n",
    "model = T5ForConditionalGeneration.from_pretrained(MODEL_DIR)\n",
    "\n",
    "device = (\n",
    "    \"mps\" if torch.backends.mps.is_available() else\n",
    "    \"cuda\" if torch.cuda.is_available() else\n",
    "    \"cpu\"\n",
    ")\n",
    "model = model.to(device)\n",
    "print(f\"Using device: {device}\")"
   ]
  },
  {
   "cell_type": "markdown",
   "id": "1558707c",
   "metadata": {},
   "source": [
    "## 3. Define Translation Function"
   ]
  },
  {
   "cell_type": "code",
   "execution_count": 16,
   "id": "7cc0a9b0",
   "metadata": {},
   "outputs": [],
   "source": [
    "def translate(text, max_length=64):\n",
    "    input_text = f\"translate English to Shakespearean: {text}\"\n",
    "    inputs = tokenizer(input_text, return_tensors=\"pt\").to(device)\n",
    "    output = model.generate(**inputs, max_length=max_length)\n",
    "    return tokenizer.decode(output[0], skip_special_tokens=True)"
   ]
  },
  {
   "cell_type": "markdown",
   "id": "38f60393",
   "metadata": {},
   "source": [
    "## 4. Try Interactive Translation"
   ]
  },
  {
   "cell_type": "code",
   "execution_count": 17,
   "id": "f6659764",
   "metadata": {},
   "outputs": [
    {
     "name": "stdout",
     "output_type": "stream",
     "text": [
      "English: How are you?\n",
      "Shakespearean: How dost thou?\n",
      "\n",
      "English: Where is the king?\n",
      "Shakespearean: Wo ist der König?\n",
      "\n",
      "English: I love you.\n",
      "Shakespearean: I do love thee.\n",
      "\n",
      "English: This is a test.\n",
      "Shakespearean: Wo ist der König?\n",
      "\n",
      "English: I love you.\n",
      "Shakespearean: I do love thee.\n",
      "\n",
      "English: This is a test.\n",
      "Shakespearean: Shakespearean ist ein Test.\n",
      "\n",
      "English: The weather is nice today.\n",
      "Shakespearean: The weather is nice today.\n",
      "\n",
      "Shakespearean: Shakespearean ist ein Test.\n",
      "\n",
      "English: The weather is nice today.\n",
      "Shakespearean: The weather is nice today.\n",
      "\n"
     ]
    }
   ],
   "source": [
    "examples = [\n",
    "    \"How are you?\",\n",
    "    \"Where is the king?\",\n",
    "    \"I love you.\",\n",
    "    \"This is a test.\",\n",
    "    \"The weather is nice today.\"\n",
    "]\n",
    "for ex in examples:\n",
    "    print(f\"English: {ex}\")\n",
    "    print(f\"Shakespearean: {translate(ex)}\\n\")"
   ]
  },
  {
   "cell_type": "markdown",
   "id": "cfc8a352",
   "metadata": {},
   "source": [
    "## 5. Custom Input"
   ]
  },
  {
   "cell_type": "code",
   "execution_count": 18,
   "id": "5ba71b8d",
   "metadata": {},
   "outputs": [
    {
     "name": "stdout",
     "output_type": "stream",
     "text": [
      "Shakespearean: I do not know how much thee were.\n"
     ]
    }
   ],
   "source": [
    "text = input(\"Enter an English sentence: \")\n",
    "print(\"Shakespearean:\", translate(text))"
   ]
  },
  {
   "cell_type": "markdown",
   "id": "77b97b2e",
   "metadata": {},
   "source": [
    "## 6. BLEU Score Evaluation (Tiny Set)"
   ]
  },
  {
   "cell_type": "code",
   "execution_count": 19,
   "id": "88d50d33",
   "metadata": {},
   "outputs": [
    {
     "name": "stdout",
     "output_type": "stream",
     "text": [
      "BLEU for 'How are you?': 0.00\n",
      "BLEU for 'Where is the king?': 0.00\n",
      "BLEU for 'I love you.': 0.00\n",
      "BLEU for 'This is a test.': 0.00\n",
      "BLEU for 'The weather is nice today.': 0.00\n",
      "Average BLEU: 0.00\n"
     ]
    }
   ],
   "source": [
    "from nltk.translate.bleu_score import sentence_bleu\n",
    "# Add your tiny test set pairs here\n",
    "references = [\n",
    "    \"How dost thou?\".split(),\n",
    "    \"Where is the king?\".split(),\n",
    "    \"I love thee.\".split(),\n",
    "    \"This is a test.\".split(),\n",
    "    \"The weather is fair today.\".split()\n",
    "]\n",
    "candidates = [translate(ex).split() for ex in examples]\n",
    "bleu_scores = [sentence_bleu([ref], cand) for ref, cand in zip(references, candidates)]\n",
    "for i, score in enumerate(bleu_scores):\n",
    "    print(f\"BLEU for '{examples[i]}': {score:.2f}\")\n",
    "print(f\"Average BLEU: {sum(bleu_scores)/len(bleu_scores):.2f}\")"
   ]
  },
  {
   "cell_type": "markdown",
   "id": "b3628ec2",
   "metadata": {},
   "source": [
    "## 7. BLEU vs ROUGE: What’s the Difference?\n",
    "\n",
    "- **BLEU** (Bilingual Evaluation Understudy) measures n-gram overlap between candidate and reference translations, focusing on precision.\n",
    "- **ROUGE** (Recall-Oriented Understudy for Gisting Evaluation) measures n-gram overlap with a focus on recall, and is often used for summarization but is also informative for translation.\n",
    "- Both are useful for evaluating translation quality, but high scores do not guarantee human-like fluency or style."
   ]
  },
  {
   "cell_type": "code",
   "execution_count": 20,
   "id": "6241aa48",
   "metadata": {},
   "outputs": [
    {
     "name": "stdout",
     "output_type": "stream",
     "text": [
      "ROUGE for 'How are you?':\n",
      "  rouge1: P=0.00, R=0.00, F1=0.00\n",
      "  rouge2: P=0.00, R=0.00, F1=0.00\n",
      "  rougeL: P=0.00, R=0.00, F1=0.00\n",
      "ROUGE for 'Where is the king?':\n",
      "  rouge1: P=0.00, R=0.00, F1=0.00\n",
      "  rouge2: P=0.00, R=0.00, F1=0.00\n",
      "  rougeL: P=0.00, R=0.00, F1=0.00\n",
      "ROUGE for 'I love you.':\n",
      "  rouge1: P=0.25, R=1.00, F1=0.40\n",
      "  rouge2: P=0.00, R=0.00, F1=0.00\n",
      "  rougeL: P=0.25, R=1.00, F1=0.40\n",
      "ROUGE for 'This is a test.':\n",
      "  rouge1: P=0.00, R=0.00, F1=0.00\n",
      "  rouge2: P=0.00, R=0.00, F1=0.00\n",
      "  rougeL: P=0.00, R=0.00, F1=0.00\n",
      "ROUGE for 'The weather is nice today.':\n",
      "  rouge1: P=0.00, R=0.00, F1=0.00\n",
      "  rouge2: P=0.00, R=0.00, F1=0.00\n",
      "  rougeL: P=0.00, R=0.00, F1=0.00\n",
      "\n",
      "Average ROUGE-L F1: 0.08\n"
     ]
    }
   ],
   "source": [
    "# ROUGE metric evaluation for the tiny set\n",
    "from rouge_score import rouge_scorer\n",
    "scorer = rouge_scorer.RougeScorer(['rouge1', 'rouge2', 'rougeL'], use_stemmer=True)\n",
    "rouge_scores = [scorer.score(' '.join(ref[0]), ' '.join(cand)) for ref, cand in zip(references, candidates)]\n",
    "for i, scores in enumerate(rouge_scores):\n",
    "    print(f\"ROUGE for '{examples[i]}':\")\n",
    "    for k, v in scores.items():\n",
    "        print(f\"  {k}: P={v.precision:.2f}, R={v.recall:.2f}, F1={v.fmeasure:.2f}\")\n",
    "print(\"\\nAverage ROUGE-L F1:\", sum(s['rougeL'].fmeasure for s in rouge_scores)/len(rouge_scores))"
   ]
  },
  {
   "cell_type": "markdown",
   "id": "9e729580",
   "metadata": {},
   "source": [
    "## 8. More Example Translations: Good and Bad Cases\n",
    "\n",
    "Below are additional examples showing both successful and failed translations. The \"good\" examples are from the tiny, perfectly aligned dataset. The \"bad\" examples are from the full, noisy dataset (if available)."
   ]
  },
  {
   "cell_type": "code",
   "execution_count": 21,
   "id": "73885723",
   "metadata": {},
   "outputs": [
    {
     "name": "stdout",
     "output_type": "stream",
     "text": [
      "Modern: Hello\n",
      "Shakespearean: Hail!\n",
      "\n",
      "Modern: Goodbye\n",
      "Shakespearean: Fare thee well!\n",
      "\n",
      "Modern: How are you?\n",
      "Shakespearean: How dost thou?\n",
      "\n",
      "Modern: Thank you\n",
      "Shakespearean: Fare thee well!\n",
      "\n",
      "Modern: How are you?\n",
      "Shakespearean: How dost thou?\n",
      "\n",
      "Modern: Thank you\n",
      "Shakespearean: I thank thee.\n",
      "\n",
      "Modern: I love you\n",
      "Shakespearean: I do love thee.\n",
      "\n",
      "Modern: Can you help me with my homework?\n",
      "Shakespearean: I thank thee.\n",
      "\n",
      "Modern: I love you\n",
      "Shakespearean: I do love thee.\n",
      "\n",
      "Modern: Can you help me with my homework?\n",
      "Shakespearean: Can you help me with my homework?\n",
      "\n",
      "Modern: What's the weather like in Paris?\n",
      "Shakespearean: What's the weather like in Paris?\n",
      "\n",
      "Modern: This neural network is overfitting.\n",
      "Shakespearean: Can you help me with my homework?\n",
      "\n",
      "Modern: What's the weather like in Paris?\n",
      "Shakespearean: What's the weather like in Paris?\n",
      "\n",
      "Modern: This neural network is overfitting.\n",
      "Shakespearean: Shakespearean ist überaus angemessen.\n",
      "\n",
      "Modern: I need to book a flight.\n",
      "Shakespearean: I do need to book a flight.\n",
      "\n",
      "Modern: Let's grab some coffee.\n",
      "Shakespearean: Shakespearean ist überaus angemessen.\n",
      "\n",
      "Modern: I need to book a flight.\n",
      "Shakespearean: I do need to book a flight.\n",
      "\n",
      "Modern: Let's grab some coffee.\n",
      "Shakespearean: Lassen Sie uns einen Kaffee trinken.\n",
      "\n",
      "Shakespearean: Lassen Sie uns einen Kaffee trinken.\n",
      "\n"
     ]
    }
   ],
   "source": [
    "# Good examples (tiny model)\n",
    "good_examples = [\n",
    "    \"Hello\",\n",
    "    \"Goodbye\",\n",
    "    \"How are you?\",\n",
    "    \"Thank you\",\n",
    "    \"I love you\"\n",
    "]\n",
    "for ex in good_examples:\n",
    "    print(f\"Modern: {ex}\")\n",
    "    print(f\"Shakespearean: {translate(ex)}\\n\")\n",
    "\n",
    "# Bad examples (simulate with out-of-domain or noisy input)\n",
    "bad_examples = [\n",
    "    \"Can you help me with my homework?\",\n",
    "    \"What's the weather like in Paris?\",\n",
    "    \"This neural network is overfitting.\",\n",
    "    \"I need to book a flight.\",\n",
    "    \"Let's grab some coffee.\"\n",
    "]\n",
    "for ex in bad_examples:\n",
    "    print(f\"Modern: {ex}\")\n",
    "    print(f\"Shakespearean: {translate(ex)}\\n\")"
   ]
  },
  {
   "cell_type": "markdown",
   "id": "35d6c99d",
   "metadata": {},
   "source": [
    "## 9. Training Curves: Tiny vs Large T5 Model\n",
    "\n",
    "Below, we plot the training loss and learning rate curves for both the tiny and large T5 models. This illustrates the difference in convergence and stability between a perfectly aligned dataset and a noisy, real-world dataset."
   ]
  },
  {
   "cell_type": "code",
   "execution_count": 23,
   "id": "826a2561",
   "metadata": {},
   "outputs": [
    {
     "data": {
      "image/png": "[encoded data removed]",
      "text/plain": [
       "<Figure size 800x400 with 2 Axes>"
      ]
     },
     "metadata": {},
     "output_type": "display_data"
    }
   ],
   "source": [
    "# Plot training loss and learning rate for the large T5 model\n",
    "with open(\"outputs/results/checkpoint-2772/trainer_state.json\") as f:\n",
    "    trainer_state = json.load(f)\n",
    "log_history = trainer_state[\"log_history\"]\n",
    "steps = [entry[\"step\"] for entry in log_history if \"loss\" in entry]\n",
    "losses = [entry[\"loss\"] for entry in log_history if \"loss\" in entry]\n",
    "lrs = [entry[\"learning_rate\"] for entry in log_history if \"learning_rate\" in entry]\n",
    "\n",
    "fig, ax1 = plt.subplots(figsize=(8,4))\n",
    "color = 'tab:blue'\n",
    "ax1.set_xlabel('Step')\n",
    "ax1.set_ylabel('Loss', color=color)\n",
    "ax1.plot(steps, losses, color=color, label='Loss')\n",
    "ax1.tick_params(axis='y', labelcolor=color)\n",
    "ax2 = ax1.twinx()\n",
    "color = 'tab:orange'\n",
    "ax2.set_ylabel('Learning Rate', color=color)\n",
    "ax2.plot(steps, lrs, color=color, linestyle='--', label='Learning Rate')\n",
    "ax2.tick_params(axis='y', labelcolor=color)\n",
    "fig.tight_layout()\n",
    "plt.title('Large T5 Model: Training Loss & Learning Rate')\n",
    "plt.show()"
   ]
  },
  {
   "cell_type": "code",
   "execution_count": 22,
   "id": "cc44bf5e",
   "metadata": {},
   "outputs": [
    {
     "name": "stdout",
     "output_type": "stream",
     "text": [
      "No tiny model training log found. (Expected at tiny_results/trainer_state.json)\n"
     ]
    }
   ],
   "source": [
    "# Plot training loss for the tiny T5 model (if available)\n",
    "import os\n",
    "tiny_log_path = \"outputs/tiny_results/trainer_state.json\"\n",
    "if os.path.exists(tiny_log_path):\n",
    "    with open(tiny_log_path) as f:\n",
    "        tiny_trainer_state = json.load(f)\n",
    "    tiny_log_history = tiny_trainer_state[\"log_history\"]\n",
    "    tiny_steps = [entry[\"step\"] for entry in tiny_log_history if \"loss\" in entry]\n",
    "    tiny_losses = [entry[\"loss\"] for entry in tiny_log_history if \"loss\" in entry]\n",
    "    plt.figure(figsize=(8,4))\n",
    "    plt.plot(tiny_steps, tiny_losses, label='Tiny Model Loss', color='tab:green')\n",
    "    plt.xlabel('Step')\n",
    "    plt.ylabel('Loss')\n",
    "    plt.title('Tiny T5 Model: Training Loss')\n",
    "    plt.legend()\n",
    "    plt.show()\n",
    "else:\n",
    "    print(\"No tiny model training log found. (Expected at tiny_results/trainer_state.json)\")"
   ]
  },
  {
   "cell_type": "markdown",
   "id": "c4fde253",
   "metadata": {},
   "source": [
    "---\n",
    "\n",
    "**Summary:**\n",
    "- The tiny, aligned dataset yields perfect translations for in-domain examples.\n",
    "- Out-of-domain or noisy inputs result in poor, generic, or nonsensical outputs, highlighting the importance of dataset alignment.\n",
    "- BLEU and ROUGE metrics provide quantitative evaluation, but qualitative inspection is essential.\n",
    "- Training curves show the difference in convergence between tiny and large models/datasets."
   ]
  }
 ],
 "metadata": {
  "kernelspec": {
   "display_name": "ai_shake",
   "language": "python",
   "name": "python3"
  },
  "language_info": {
   "codemirror_mode": {
    "name": "ipython",
    "version": 3
   },
   "file_extension": ".py",
   "mimetype": "text/x-python",
   "name": "python",
   "nbconvert_exporter": "python",
   "pygments_lexer": "ipython3",
   "version": "3.10.18"
  }
 },
 "nbformat": 4,
 "nbformat_minor": 5
}
